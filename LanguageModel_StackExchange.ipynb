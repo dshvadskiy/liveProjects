{
  "nbformat": 4,
  "nbformat_minor": 0,
  "metadata": {
    "colab": {
      "name": "LanguageModel_StackExchange.ipynb",
      "provenance": [],
      "collapsed_sections": [],
      "authorship_tag": "ABX9TyMRTL0DxCiELeJJ56wAUCur",
      "include_colab_link": true
    },
    "kernelspec": {
      "name": "python3",
      "display_name": "Python 3"
    }
  },
  "cells": [
    {
      "cell_type": "markdown",
      "metadata": {
        "id": "view-in-github",
        "colab_type": "text"
      },
      "source": [
        "<a href=\"https://colab.research.google.com/github/dshvadskiy/liveProjects/blob/master/LanguageModel_StackExchange.ipynb\" target=\"_parent\"><img src=\"https://colab.research.google.com/assets/colab-badge.svg\" alt=\"Open In Colab\"/></a>"
      ]
    },
    {
      "cell_type": "code",
      "metadata": {
        "id": "eukUBEo3qvMJ",
        "colab_type": "code",
        "colab": {
          "base_uri": "https://localhost:8080/",
          "height": 204
        },
        "outputId": "b9274597-783d-47ea-c1a6-967feddefe23"
      },
      "source": [
        "!wget https://liveproject-resources.s3.amazonaws.com/116/other/stackexchange_812k.csv.gz"
      ],
      "execution_count": 2,
      "outputs": [
        {
          "output_type": "stream",
          "text": [
            "--2020-04-28 02:07:25--  https://liveproject-resources.s3.amazonaws.com/116/other/stackexchange_812k.csv.gz\n",
            "Resolving liveproject-resources.s3.amazonaws.com (liveproject-resources.s3.amazonaws.com)... 52.216.179.43\n",
            "Connecting to liveproject-resources.s3.amazonaws.com (liveproject-resources.s3.amazonaws.com)|52.216.179.43|:443... connected.\n",
            "HTTP request sent, awaiting response... 200 OK\n",
            "Length: 130230720 (124M) [application/x-gzip]\n",
            "Saving to: ‘stackexchange_812k.csv.gz’\n",
            "\n",
            "stackexchange_812k. 100%[===================>] 124.20M  68.0MB/s    in 1.8s    \n",
            "\n",
            "2020-04-28 02:07:28 (68.0 MB/s) - ‘stackexchange_812k.csv.gz’ saved [130230720/130230720]\n",
            "\n"
          ],
          "name": "stdout"
        }
      ]
    },
    {
      "cell_type": "code",
      "metadata": {
        "id": "qVkRloXVrf3D",
        "colab_type": "code",
        "colab": {}
      },
      "source": [
        "!gzip -d  stackexchange_812k.csv.gz"
      ],
      "execution_count": 0,
      "outputs": []
    },
    {
      "cell_type": "code",
      "metadata": {
        "id": "jxVPBF5HrpNo",
        "colab_type": "code",
        "colab": {
          "base_uri": "https://localhost:8080/",
          "height": 119
        },
        "outputId": "efdca80d-a97b-47c5-d9d8-5f9245fff0d6"
      },
      "source": [
        "!ls -la"
      ],
      "execution_count": 4,
      "outputs": [
        {
          "output_type": "stream",
          "text": [
            "total 368580\n",
            "drwxr-xr-x 1 root root      4096 Apr 28 02:07 .\n",
            "drwxr-xr-x 1 root root      4096 Apr 28 02:06 ..\n",
            "drwxr-xr-x 1 root root      4096 Apr 23 16:11 .config\n",
            "drwxr-xr-x 1 root root      4096 Apr  3 16:24 sample_data\n",
            "-rw-r--r-- 1 root root 377402808 Apr 18 19:07 stackexchange_812k.csv\n"
          ],
          "name": "stdout"
        }
      ]
    },
    {
      "cell_type": "code",
      "metadata": {
        "id": "FlC83XEWr_Ac",
        "colab_type": "code",
        "colab": {
          "base_uri": "https://localhost:8080/",
          "height": 187
        },
        "outputId": "2b3fdddb-de3a-45a6-8a79-ae0ccf29bde6"
      },
      "source": [
        "!head -n 10 stackexchange_812k.csv"
      ],
      "execution_count": 7,
      "outputs": [
        {
          "output_type": "stream",
          "text": [
            "\"post_id\",\"parent_id\",\"comment_id\",\"text\",\"category\"\n",
            "\"1\",\"\",\"\",\"Eliciting priors from experts\",\"title\"\n",
            "\"2\",\"\",\"\",\"What is normality?\",\"title\"\n",
            "\"3\",\"\",\"\",\"What are some valuable Statistical Analysis open source projects?\",\"title\"\n",
            "\"4\",\"\",\"\",\"Assessing the significance of differences in distributions\",\"title\"\n",
            "\"6\",\"\",\"\",\"The Two Cultures: statistics vs. machine learning?\",\"title\"\n",
            "\"7\",\"\",\"\",\"Locating freely available data samples\",\"title\"\n",
            "\"8\",\"\",\"\",\"So how many staticians *does* it take to screw in a lightbulb?\",\"title\"\n",
            "\"10\",\"\",\"\",\"Under what conditions should Likert scales be used as ordinal or interval data?\",\"title\"\n",
            "\"11\",\"\",\"\",\"Multivariate Interpolation Approaches\",\"title\"\n"
          ],
          "name": "stdout"
        }
      ]
    },
    {
      "cell_type": "code",
      "metadata": {
        "id": "W4jrk1Ptil32",
        "colab_type": "code",
        "colab": {}
      },
      "source": [
        "import pandas as pd"
      ],
      "execution_count": 0,
      "outputs": []
    },
    {
      "cell_type": "code",
      "metadata": {
        "id": "j-Vzbe8pi2nP",
        "colab_type": "code",
        "colab": {}
      },
      "source": [
        "data = pd.read_csv(\"stackexchange_812k.csv\") "
      ],
      "execution_count": 0,
      "outputs": []
    },
    {
      "cell_type": "code",
      "metadata": {
        "id": "o7Yw-khxjOAC",
        "colab_type": "code",
        "colab": {
          "base_uri": "https://localhost:8080/",
          "height": 238
        },
        "outputId": "734060fe-c85c-494e-d1c3-cd77b8d38138"
      },
      "source": [
        "pd.set_option('max_colwidth', 500)\n",
        "data.sample(5)"
      ],
      "execution_count": 14,
      "outputs": [
        {
          "output_type": "execute_result",
          "data": {
            "text/html": [
              "<div>\n",
              "<style scoped>\n",
              "    .dataframe tbody tr th:only-of-type {\n",
              "        vertical-align: middle;\n",
              "    }\n",
              "\n",
              "    .dataframe tbody tr th {\n",
              "        vertical-align: top;\n",
              "    }\n",
              "\n",
              "    .dataframe thead th {\n",
              "        text-align: right;\n",
              "    }\n",
              "</style>\n",
              "<table border=\"1\" class=\"dataframe\">\n",
              "  <thead>\n",
              "    <tr style=\"text-align: right;\">\n",
              "      <th></th>\n",
              "      <th>post_id</th>\n",
              "      <th>parent_id</th>\n",
              "      <th>comment_id</th>\n",
              "      <th>text</th>\n",
              "      <th>category</th>\n",
              "    </tr>\n",
              "  </thead>\n",
              "  <tbody>\n",
              "    <tr>\n",
              "      <th>92149</th>\n",
              "      <td>744</td>\n",
              "      <td>726.0</td>\n",
              "      <td>NaN</td>\n",
              "      <td>&lt;blockquote&gt;\\n  &lt;p&gt;\"An approximate answer to the right problem is worth a good deal more than an exact answer to an approximate problem.\" -- John Tukey&lt;/p&gt;\\n&lt;/blockquote&gt;\\n</td>\n",
              "      <td>post</td>\n",
              "    </tr>\n",
              "    <tr>\n",
              "      <th>697706</th>\n",
              "      <td>342921</td>\n",
              "      <td>NaN</td>\n",
              "      <td>647390.0</td>\n",
              "      <td>Which probabilities don't sum to 1? 0.1 + 0.2 + 0.9?</td>\n",
              "      <td>comment</td>\n",
              "    </tr>\n",
              "    <tr>\n",
              "      <th>759087</th>\n",
              "      <td>237177</td>\n",
              "      <td>NaN</td>\n",
              "      <td>450656.0</td>\n",
              "      <td>Welcome back! Please register &amp;/or merge your accounts (you can find information on how to do \\nthis in the **My Account** section of our [help]), then you will be able to \\nedit &amp; comment on your own question. (Your original account is [here](http://stats.stackexchange.com/users/48456/joseph-hilbe).)</td>\n",
              "      <td>comment</td>\n",
              "    </tr>\n",
              "    <tr>\n",
              "      <th>317989</th>\n",
              "      <td>32475</td>\n",
              "      <td>NaN</td>\n",
              "      <td>63664.0</td>\n",
              "      <td>Hi, Lews: There are some options here that ought to be spelled out. Because the x-axis is logarithmic, do you want the area as shown or the area as plotted against $M$ itself? Should the area be computed from the apparent data or based on the fitted curves? Because the curves appear to be fits to data and the data show spreads, do you need to come up with a standard error of the estimated area? I wonder, too, whether you really want the area between these two curves or whether you're looking...</td>\n",
              "      <td>comment</td>\n",
              "    </tr>\n",
              "    <tr>\n",
              "      <th>416187</th>\n",
              "      <td>193421</td>\n",
              "      <td>NaN</td>\n",
              "      <td>368269.0</td>\n",
              "      <td>I guess that these details were inhibiting replies; it is important to realise that a bounty doesn't make an obscure question any clearer.</td>\n",
              "      <td>comment</td>\n",
              "    </tr>\n",
              "  </tbody>\n",
              "</table>\n",
              "</div>"
            ],
            "text/plain": [
              "        post_id  ...  category\n",
              "92149       744  ...      post\n",
              "697706   342921  ...   comment\n",
              "759087   237177  ...   comment\n",
              "317989    32475  ...   comment\n",
              "416187   193421  ...   comment\n",
              "\n",
              "[5 rows x 5 columns]"
            ]
          },
          "metadata": {
            "tags": []
          },
          "execution_count": 14
        }
      ]
    },
    {
      "cell_type": "code",
      "metadata": {
        "id": "4DY6Gs-OjRZs",
        "colab_type": "code",
        "colab": {}
      },
      "source": [
        "import re\n",
        "def striphtml(data):\n",
        "    p = re.compile(r'<.*?>')\n",
        "    return p.sub('', data)"
      ],
      "execution_count": 0,
      "outputs": []
    },
    {
      "cell_type": "code",
      "metadata": {
        "id": "PBQi0YZ2nLSd",
        "colab_type": "code",
        "colab": {}
      },
      "source": [
        "data['text'] = data['text'].apply(lambda x: striphtml(x))"
      ],
      "execution_count": 0,
      "outputs": []
    },
    {
      "cell_type": "code",
      "metadata": {
        "id": "zrnQd2UKnYi8",
        "colab_type": "code",
        "colab": {
          "base_uri": "https://localhost:8080/",
          "height": 221
        },
        "outputId": "7a0dabd4-9599-40f6-a7b1-632e2298150c"
      },
      "source": [
        "data.sample(5)"
      ],
      "execution_count": 20,
      "outputs": [
        {
          "output_type": "execute_result",
          "data": {
            "text/html": [
              "<div>\n",
              "<style scoped>\n",
              "    .dataframe tbody tr th:only-of-type {\n",
              "        vertical-align: middle;\n",
              "    }\n",
              "\n",
              "    .dataframe tbody tr th {\n",
              "        vertical-align: top;\n",
              "    }\n",
              "\n",
              "    .dataframe thead th {\n",
              "        text-align: right;\n",
              "    }\n",
              "</style>\n",
              "<table border=\"1\" class=\"dataframe\">\n",
              "  <thead>\n",
              "    <tr style=\"text-align: right;\">\n",
              "      <th></th>\n",
              "      <th>post_id</th>\n",
              "      <th>parent_id</th>\n",
              "      <th>comment_id</th>\n",
              "      <th>text</th>\n",
              "      <th>category</th>\n",
              "    </tr>\n",
              "  </thead>\n",
              "  <tbody>\n",
              "    <tr>\n",
              "      <th>394514</th>\n",
              "      <td>176557</td>\n",
              "      <td>NaN</td>\n",
              "      <td>334183.0</td>\n",
              "      <td>Thanks, and is this result saying something bout how close will the predicted and measured values be.</td>\n",
              "      <td>comment</td>\n",
              "    </tr>\n",
              "    <tr>\n",
              "      <th>379854</th>\n",
              "      <td>74653</td>\n",
              "      <td>NaN</td>\n",
              "      <td>145657.0</td>\n",
              "      <td>Hi Andre, I simplified the example in order to present it in \"text book\" style but at this point I have no idea whether this can be solved using off the shelve methods.</td>\n",
              "      <td>comment</td>\n",
              "    </tr>\n",
              "    <tr>\n",
              "      <th>263066</th>\n",
              "      <td>2550</td>\n",
              "      <td>NaN</td>\n",
              "      <td>187964.0</td>\n",
              "      <td>My concern is that factual characteristics of the mean and median (e.g. the former is sensitive to outliers, viz \"People of such age have 1.5 to 4 times the influence on the mean than they do on the median compared to very young people.\") become translated into *values* about their worth, viz \"the median gives us a slightly better picture of what the age distribution itself looks like\". The former is a fact, the later a valuation of that fact. My concern is with the switch between the two. M...</td>\n",
              "      <td>comment</td>\n",
              "    </tr>\n",
              "    <tr>\n",
              "      <th>289462</th>\n",
              "      <td>17258</td>\n",
              "      <td>NaN</td>\n",
              "      <td>30934.0</td>\n",
              "      <td>Well, since in this case the step size is 0.01, it means that $80 \\cdot 0.01 = 0.8 = 80\\%$ of the data lie within that bin. Same intepretation as the area under the curve of a pdf taken over some interval. :)</td>\n",
              "      <td>comment</td>\n",
              "    </tr>\n",
              "    <tr>\n",
              "      <th>526660</th>\n",
              "      <td>148160</td>\n",
              "      <td>NaN</td>\n",
              "      <td>284040.0</td>\n",
              "      <td>@Glen_b, Just a heads up, I think I know what your asking, but you might want to spell check this comment.</td>\n",
              "      <td>comment</td>\n",
              "    </tr>\n",
              "  </tbody>\n",
              "</table>\n",
              "</div>"
            ],
            "text/plain": [
              "        post_id  ...  category\n",
              "394514   176557  ...   comment\n",
              "379854    74653  ...   comment\n",
              "263066     2550  ...   comment\n",
              "289462    17258  ...   comment\n",
              "526660   148160  ...   comment\n",
              "\n",
              "[5 rows x 5 columns]"
            ]
          },
          "metadata": {
            "tags": []
          },
          "execution_count": 20
        }
      ]
    },
    {
      "cell_type": "code",
      "metadata": {
        "id": "TIasQAUjnfEy",
        "colab_type": "code",
        "colab": {}
      },
      "source": [
        ""
      ],
      "execution_count": 0,
      "outputs": []
    }
  ]
}